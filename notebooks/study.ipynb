{
 "cells": [
  {
   "cell_type": "code",
   "execution_count": 1,
   "metadata": {},
   "outputs": [],
   "source": [
    "import os\n",
    "from dotenv import load_dotenv\n",
    "\n",
    "from typing import Literal\n",
    "from IPython.display import display\n",
    "from IPython.display import clear_output\n",
    "import ipywidgets as widgets\n",
    "import pandas as pd\n",
    "from datetime import datetime\n",
    "from plotly import graph_objects as go\n",
    "\n",
    "from openbb import obb"
   ]
  },
  {
   "cell_type": "code",
   "execution_count": 2,
   "metadata": {},
   "outputs": [
    {
     "data": {
      "text/plain": [
       "True"
      ]
     },
     "execution_count": 2,
     "metadata": {},
     "output_type": "execute_result"
    }
   ],
   "source": [
    "# Load environment variables from .env file\n",
    "load_dotenv()"
   ]
  },
  {
   "cell_type": "code",
   "execution_count": 3,
   "metadata": {},
   "outputs": [],
   "source": [
    "openbb_token = os.getenv('OPENBB_TOKEN')"
   ]
  },
  {
   "cell_type": "code",
   "execution_count": 4,
   "metadata": {},
   "outputs": [
    {
     "data": {
      "text/plain": [
       "Credentials\n",
       "\n",
       "benzinga_api_key: None\n",
       "bls_api_key: None\n",
       "cftc_app_token: None\n",
       "econdb_api_key: None\n",
       "fmp_api_key: **********\n",
       "fred_api_key: None\n",
       "intrinio_api_key: None\n",
       "polygon_api_key: None\n",
       "tiingo_token: None\n",
       "tradingeconomics_api_key: None"
      ]
     },
     "execution_count": 4,
     "metadata": {},
     "output_type": "execute_result"
    }
   ],
   "source": [
    "obb.account.login(pat=openbb_token)\n",
    "\n",
    "# Verify that the credentials from Hub were loaded successfully.\n",
    "obb.user.credentials"
   ]
  },
  {
   "cell_type": "code",
   "execution_count": 5,
   "metadata": {},
   "outputs": [],
   "source": [
    "# Set the output preference, if desired. The examples below use Pandas DataFrames.\n",
    "\n",
    "obb.user.preferences.output_type = \"dataframe\""
   ]
  },
  {
   "cell_type": "code",
   "execution_count": 6,
   "metadata": {},
   "outputs": [
    {
     "data": {
      "text/html": [
       "<div>\n",
       "<style scoped>\n",
       "    .dataframe tbody tr th:only-of-type {\n",
       "        vertical-align: middle;\n",
       "    }\n",
       "\n",
       "    .dataframe tbody tr th {\n",
       "        vertical-align: top;\n",
       "    }\n",
       "\n",
       "    .dataframe thead th {\n",
       "        text-align: right;\n",
       "    }\n",
       "</style>\n",
       "<table border=\"1\" class=\"dataframe\">\n",
       "  <thead>\n",
       "    <tr style=\"text-align: right;\">\n",
       "      <th></th>\n",
       "      <th>symbol</th>\n",
       "      <th>asset_type</th>\n",
       "      <th>name</th>\n",
       "      <th>exchange</th>\n",
       "      <th>bid</th>\n",
       "      <th>bid_size</th>\n",
       "      <th>ask</th>\n",
       "      <th>ask_size</th>\n",
       "      <th>last_price</th>\n",
       "      <th>open</th>\n",
       "      <th>...</th>\n",
       "      <th>low</th>\n",
       "      <th>volume</th>\n",
       "      <th>prev_close</th>\n",
       "      <th>year_high</th>\n",
       "      <th>year_low</th>\n",
       "      <th>ma_50d</th>\n",
       "      <th>ma_200d</th>\n",
       "      <th>volume_average</th>\n",
       "      <th>volume_average_10d</th>\n",
       "      <th>currency</th>\n",
       "    </tr>\n",
       "  </thead>\n",
       "  <tbody>\n",
       "    <tr>\n",
       "      <th>0</th>\n",
       "      <td>AAPL</td>\n",
       "      <td>EQUITY</td>\n",
       "      <td>Apple Inc.</td>\n",
       "      <td>NMS</td>\n",
       "      <td>226.66</td>\n",
       "      <td>100</td>\n",
       "      <td>226.8</td>\n",
       "      <td>100</td>\n",
       "      <td>226.8</td>\n",
       "      <td>227.89</td>\n",
       "      <td>...</td>\n",
       "      <td>224.14</td>\n",
       "      <td>37076355</td>\n",
       "      <td>225.67</td>\n",
       "      <td>237.23</td>\n",
       "      <td>164.08</td>\n",
       "      <td>222.6748</td>\n",
       "      <td>197.95215</td>\n",
       "      <td>54048917.0</td>\n",
       "      <td>43267030.0</td>\n",
       "      <td>USD</td>\n",
       "    </tr>\n",
       "  </tbody>\n",
       "</table>\n",
       "<p>1 rows × 21 columns</p>\n",
       "</div>"
      ],
      "text/plain": [
       "  symbol asset_type        name exchange     bid  bid_size    ask  ask_size  \\\n",
       "0   AAPL     EQUITY  Apple Inc.      NMS  226.66       100  226.8       100   \n",
       "\n",
       "   last_price    open  ...     low    volume  prev_close  year_high  year_low  \\\n",
       "0       226.8  227.89  ...  224.14  37076355      225.67     237.23    164.08   \n",
       "\n",
       "     ma_50d    ma_200d  volume_average  volume_average_10d  currency  \n",
       "0  222.6748  197.95215      54048917.0          43267030.0       USD  \n",
       "\n",
       "[1 rows x 21 columns]"
      ]
     },
     "execution_count": 6,
     "metadata": {},
     "output_type": "execute_result"
    }
   ],
   "source": [
    "# Get the price of a stock\n",
    "symbol=\"AAPL\"\n",
    "quote_data = obb.equity.price.quote(symbol, provider=\"yfinance\")\n",
    "quote_data"
   ]
  },
  {
   "cell_type": "code",
   "execution_count": 7,
   "metadata": {},
   "outputs": [
    {
     "data": {
      "text/html": [
       "<div>\n",
       "<style scoped>\n",
       "    .dataframe tbody tr th:only-of-type {\n",
       "        vertical-align: middle;\n",
       "    }\n",
       "\n",
       "    .dataframe tbody tr th {\n",
       "        vertical-align: top;\n",
       "    }\n",
       "\n",
       "    .dataframe thead th {\n",
       "        text-align: right;\n",
       "    }\n",
       "</style>\n",
       "<table border=\"1\" class=\"dataframe\">\n",
       "  <thead>\n",
       "    <tr style=\"text-align: right;\">\n",
       "      <th></th>\n",
       "      <th>symbol</th>\n",
       "      <th>asset_type</th>\n",
       "      <th>name</th>\n",
       "      <th>exchange</th>\n",
       "      <th>open</th>\n",
       "      <th>high</th>\n",
       "      <th>low</th>\n",
       "      <th>prev_close</th>\n",
       "      <th>year_high</th>\n",
       "      <th>year_low</th>\n",
       "      <th>ma_50d</th>\n",
       "      <th>ma_200d</th>\n",
       "      <th>volume_average</th>\n",
       "      <th>volume_average_10d</th>\n",
       "      <th>currency</th>\n",
       "    </tr>\n",
       "  </thead>\n",
       "  <tbody>\n",
       "    <tr>\n",
       "      <th>0</th>\n",
       "      <td>^BVSP</td>\n",
       "      <td>INDEX</td>\n",
       "      <td>IBOVESPA</td>\n",
       "      <td>SAO</td>\n",
       "      <td>131671.52</td>\n",
       "      <td>131935.97</td>\n",
       "      <td>131156.34</td>\n",
       "      <td>131671.52</td>\n",
       "      <td>137469.0</td>\n",
       "      <td>112098.0</td>\n",
       "      <td>132758.81</td>\n",
       "      <td>128537.18</td>\n",
       "      <td>8683395.0</td>\n",
       "      <td>9523960.0</td>\n",
       "      <td>BRL</td>\n",
       "    </tr>\n",
       "  </tbody>\n",
       "</table>\n",
       "</div>"
      ],
      "text/plain": [
       "  symbol asset_type      name exchange       open       high        low  \\\n",
       "0  ^BVSP      INDEX  IBOVESPA      SAO  131671.52  131935.97  131156.34   \n",
       "\n",
       "   prev_close  year_high  year_low     ma_50d    ma_200d  volume_average  \\\n",
       "0   131671.52   137469.0  112098.0  132758.81  128537.18       8683395.0   \n",
       "\n",
       "   volume_average_10d currency  \n",
       "0           9523960.0      BRL  "
      ]
     },
     "execution_count": 7,
     "metadata": {},
     "output_type": "execute_result"
    }
   ],
   "source": [
    "# Get the price of a stock\n",
    "symbol=\"^BVSP\"\n",
    "quote_data = obb.equity.price.quote(symbol, provider=\"yfinance\")\n",
    "quote_data"
   ]
  },
  {
   "cell_type": "code",
   "execution_count": 13,
   "metadata": {},
   "outputs": [
    {
     "data": {
      "text/plain": [
       "Index(['date', 'open', 'high', 'low', 'close', 'volume', 'split_ratio',\n",
       "       'dividend'],\n",
       "      dtype='object')"
      ]
     },
     "execution_count": 13,
     "metadata": {},
     "output_type": "execute_result"
    }
   ],
   "source": [
    "quote_data = obb.equity.price.historical(\"^BVSP\", provider=\"yfinance\")\n",
    "df = pd.DataFrame(quote_data)\n",
    "df.reset_index(inplace=True)\n",
    "df.columns"
   ]
  },
  {
   "cell_type": "code",
   "execution_count": 7,
   "metadata": {},
   "outputs": [
    {
     "data": {
      "text/html": [
       "<div>\n",
       "<style scoped>\n",
       "    .dataframe tbody tr th:only-of-type {\n",
       "        vertical-align: middle;\n",
       "    }\n",
       "\n",
       "    .dataframe tbody tr th {\n",
       "        vertical-align: top;\n",
       "    }\n",
       "\n",
       "    .dataframe thead th {\n",
       "        text-align: right;\n",
       "    }\n",
       "</style>\n",
       "<table border=\"1\" class=\"dataframe\">\n",
       "  <thead>\n",
       "    <tr style=\"text-align: right;\">\n",
       "      <th></th>\n",
       "      <th>underlying_symbol</th>\n",
       "      <th>underlying_price</th>\n",
       "      <th>contract_symbol</th>\n",
       "      <th>expiration</th>\n",
       "      <th>dte</th>\n",
       "      <th>strike</th>\n",
       "      <th>option_type</th>\n",
       "      <th>open_interest</th>\n",
       "      <th>volume</th>\n",
       "      <th>last_trade_price</th>\n",
       "      <th>last_trade_time</th>\n",
       "      <th>bid</th>\n",
       "      <th>ask</th>\n",
       "      <th>change</th>\n",
       "      <th>change_percent</th>\n",
       "      <th>implied_volatility</th>\n",
       "      <th>in_the_money</th>\n",
       "      <th>currency</th>\n",
       "    </tr>\n",
       "  </thead>\n",
       "  <tbody>\n",
       "    <tr>\n",
       "      <th>0</th>\n",
       "      <td>AAPL</td>\n",
       "      <td>226.415</td>\n",
       "      <td>AAPL241011C00100000</td>\n",
       "      <td>2024-10-11</td>\n",
       "      <td>6</td>\n",
       "      <td>100.0</td>\n",
       "      <td>call</td>\n",
       "      <td>1</td>\n",
       "      <td>3</td>\n",
       "      <td>126.35</td>\n",
       "      <td>2024-10-04 15:25:06-04:00</td>\n",
       "      <td>126.55</td>\n",
       "      <td>127.10</td>\n",
       "      <td>-2.170006</td>\n",
       "      <td>-0.016885</td>\n",
       "      <td>2.046880</td>\n",
       "      <td>True</td>\n",
       "      <td>USD</td>\n",
       "    </tr>\n",
       "    <tr>\n",
       "      <th>1</th>\n",
       "      <td>AAPL</td>\n",
       "      <td>226.415</td>\n",
       "      <td>AAPL241011P00100000</td>\n",
       "      <td>2024-10-11</td>\n",
       "      <td>6</td>\n",
       "      <td>100.0</td>\n",
       "      <td>put</td>\n",
       "      <td>8</td>\n",
       "      <td>5</td>\n",
       "      <td>0.01</td>\n",
       "      <td>2024-10-01 10:16:10-04:00</td>\n",
       "      <td>0.00</td>\n",
       "      <td>0.01</td>\n",
       "      <td>0.000000</td>\n",
       "      <td>0.000000</td>\n",
       "      <td>1.812501</td>\n",
       "      <td>False</td>\n",
       "      <td>USD</td>\n",
       "    </tr>\n",
       "    <tr>\n",
       "      <th>2</th>\n",
       "      <td>AAPL</td>\n",
       "      <td>226.415</td>\n",
       "      <td>AAPL241011P00110000</td>\n",
       "      <td>2024-10-11</td>\n",
       "      <td>6</td>\n",
       "      <td>110.0</td>\n",
       "      <td>put</td>\n",
       "      <td>1</td>\n",
       "      <td>0</td>\n",
       "      <td>0.01</td>\n",
       "      <td>2024-09-26 12:50:53-04:00</td>\n",
       "      <td>0.00</td>\n",
       "      <td>0.06</td>\n",
       "      <td>0.000000</td>\n",
       "      <td>0.000000</td>\n",
       "      <td>1.859376</td>\n",
       "      <td>False</td>\n",
       "      <td>USD</td>\n",
       "    </tr>\n",
       "    <tr>\n",
       "      <th>3</th>\n",
       "      <td>AAPL</td>\n",
       "      <td>226.415</td>\n",
       "      <td>AAPL241011C00120000</td>\n",
       "      <td>2024-10-11</td>\n",
       "      <td>6</td>\n",
       "      <td>120.0</td>\n",
       "      <td>call</td>\n",
       "      <td>1</td>\n",
       "      <td>1</td>\n",
       "      <td>105.50</td>\n",
       "      <td>2024-10-03 12:09:18-04:00</td>\n",
       "      <td>106.20</td>\n",
       "      <td>107.60</td>\n",
       "      <td>0.000000</td>\n",
       "      <td>0.000000</td>\n",
       "      <td>1.875001</td>\n",
       "      <td>True</td>\n",
       "      <td>USD</td>\n",
       "    </tr>\n",
       "    <tr>\n",
       "      <th>4</th>\n",
       "      <td>AAPL</td>\n",
       "      <td>226.415</td>\n",
       "      <td>AAPL241011P00130000</td>\n",
       "      <td>2024-10-11</td>\n",
       "      <td>6</td>\n",
       "      <td>130.0</td>\n",
       "      <td>put</td>\n",
       "      <td>50</td>\n",
       "      <td>0</td>\n",
       "      <td>0.02</td>\n",
       "      <td>2024-09-11 14:27:04-04:00</td>\n",
       "      <td>0.00</td>\n",
       "      <td>0.06</td>\n",
       "      <td>0.000000</td>\n",
       "      <td>0.000000</td>\n",
       "      <td>1.453128</td>\n",
       "      <td>False</td>\n",
       "      <td>USD</td>\n",
       "    </tr>\n",
       "    <tr>\n",
       "      <th>...</th>\n",
       "      <td>...</td>\n",
       "      <td>...</td>\n",
       "      <td>...</td>\n",
       "      <td>...</td>\n",
       "      <td>...</td>\n",
       "      <td>...</td>\n",
       "      <td>...</td>\n",
       "      <td>...</td>\n",
       "      <td>...</td>\n",
       "      <td>...</td>\n",
       "      <td>...</td>\n",
       "      <td>...</td>\n",
       "      <td>...</td>\n",
       "      <td>...</td>\n",
       "      <td>...</td>\n",
       "      <td>...</td>\n",
       "      <td>...</td>\n",
       "      <td>...</td>\n",
       "    </tr>\n",
       "    <tr>\n",
       "      <th>1837</th>\n",
       "      <td>AAPL</td>\n",
       "      <td>226.415</td>\n",
       "      <td>AAPL270115C00410000</td>\n",
       "      <td>2027-01-15</td>\n",
       "      <td>832</td>\n",
       "      <td>410.0</td>\n",
       "      <td>call</td>\n",
       "      <td>1</td>\n",
       "      <td>1</td>\n",
       "      <td>3.15</td>\n",
       "      <td>2024-09-27 09:58:18-04:00</td>\n",
       "      <td>1.66</td>\n",
       "      <td>4.55</td>\n",
       "      <td>0.000000</td>\n",
       "      <td>0.000000</td>\n",
       "      <td>0.278328</td>\n",
       "      <td>False</td>\n",
       "      <td>USD</td>\n",
       "    </tr>\n",
       "    <tr>\n",
       "      <th>1838</th>\n",
       "      <td>AAPL</td>\n",
       "      <td>226.415</td>\n",
       "      <td>AAPL270115C00420000</td>\n",
       "      <td>2027-01-15</td>\n",
       "      <td>832</td>\n",
       "      <td>420.0</td>\n",
       "      <td>call</td>\n",
       "      <td>1</td>\n",
       "      <td>1</td>\n",
       "      <td>2.77</td>\n",
       "      <td>2024-10-02 11:12:58-04:00</td>\n",
       "      <td>1.33</td>\n",
       "      <td>4.10</td>\n",
       "      <td>0.000000</td>\n",
       "      <td>0.000000</td>\n",
       "      <td>0.279090</td>\n",
       "      <td>False</td>\n",
       "      <td>USD</td>\n",
       "    </tr>\n",
       "    <tr>\n",
       "      <th>1839</th>\n",
       "      <td>AAPL</td>\n",
       "      <td>226.415</td>\n",
       "      <td>AAPL270115C00430000</td>\n",
       "      <td>2027-01-15</td>\n",
       "      <td>832</td>\n",
       "      <td>430.0</td>\n",
       "      <td>call</td>\n",
       "      <td>3</td>\n",
       "      <td>1</td>\n",
       "      <td>2.71</td>\n",
       "      <td>2024-09-30 11:05:44-04:00</td>\n",
       "      <td>0.93</td>\n",
       "      <td>2.96</td>\n",
       "      <td>0.000000</td>\n",
       "      <td>0.000000</td>\n",
       "      <td>0.266548</td>\n",
       "      <td>False</td>\n",
       "      <td>USD</td>\n",
       "    </tr>\n",
       "    <tr>\n",
       "      <th>1840</th>\n",
       "      <td>AAPL</td>\n",
       "      <td>226.415</td>\n",
       "      <td>AAPL270115C00440000</td>\n",
       "      <td>2027-01-15</td>\n",
       "      <td>832</td>\n",
       "      <td>440.0</td>\n",
       "      <td>call</td>\n",
       "      <td>2</td>\n",
       "      <td>1</td>\n",
       "      <td>2.42</td>\n",
       "      <td>2024-09-30 13:20:06-04:00</td>\n",
       "      <td>1.90</td>\n",
       "      <td>2.85</td>\n",
       "      <td>0.000000</td>\n",
       "      <td>0.000000</td>\n",
       "      <td>0.271309</td>\n",
       "      <td>False</td>\n",
       "      <td>USD</td>\n",
       "    </tr>\n",
       "    <tr>\n",
       "      <th>1841</th>\n",
       "      <td>AAPL</td>\n",
       "      <td>226.415</td>\n",
       "      <td>AAPL270115C00450000</td>\n",
       "      <td>2027-01-15</td>\n",
       "      <td>832</td>\n",
       "      <td>450.0</td>\n",
       "      <td>call</td>\n",
       "      <td>278</td>\n",
       "      <td>12</td>\n",
       "      <td>1.83</td>\n",
       "      <td>2024-10-04 15:56:56-04:00</td>\n",
       "      <td>1.69</td>\n",
       "      <td>1.85</td>\n",
       "      <td>0.140000</td>\n",
       "      <td>0.082840</td>\n",
       "      <td>0.255501</td>\n",
       "      <td>False</td>\n",
       "      <td>USD</td>\n",
       "    </tr>\n",
       "  </tbody>\n",
       "</table>\n",
       "<p>1842 rows × 18 columns</p>\n",
       "</div>"
      ],
      "text/plain": [
       "     underlying_symbol  underlying_price      contract_symbol  expiration  \\\n",
       "0                 AAPL           226.415  AAPL241011C00100000  2024-10-11   \n",
       "1                 AAPL           226.415  AAPL241011P00100000  2024-10-11   \n",
       "2                 AAPL           226.415  AAPL241011P00110000  2024-10-11   \n",
       "3                 AAPL           226.415  AAPL241011C00120000  2024-10-11   \n",
       "4                 AAPL           226.415  AAPL241011P00130000  2024-10-11   \n",
       "...                ...               ...                  ...         ...   \n",
       "1837              AAPL           226.415  AAPL270115C00410000  2027-01-15   \n",
       "1838              AAPL           226.415  AAPL270115C00420000  2027-01-15   \n",
       "1839              AAPL           226.415  AAPL270115C00430000  2027-01-15   \n",
       "1840              AAPL           226.415  AAPL270115C00440000  2027-01-15   \n",
       "1841              AAPL           226.415  AAPL270115C00450000  2027-01-15   \n",
       "\n",
       "      dte  strike option_type  open_interest  volume  last_trade_price  \\\n",
       "0       6   100.0        call              1       3            126.35   \n",
       "1       6   100.0         put              8       5              0.01   \n",
       "2       6   110.0         put              1       0              0.01   \n",
       "3       6   120.0        call              1       1            105.50   \n",
       "4       6   130.0         put             50       0              0.02   \n",
       "...   ...     ...         ...            ...     ...               ...   \n",
       "1837  832   410.0        call              1       1              3.15   \n",
       "1838  832   420.0        call              1       1              2.77   \n",
       "1839  832   430.0        call              3       1              2.71   \n",
       "1840  832   440.0        call              2       1              2.42   \n",
       "1841  832   450.0        call            278      12              1.83   \n",
       "\n",
       "               last_trade_time     bid     ask    change  change_percent  \\\n",
       "0    2024-10-04 15:25:06-04:00  126.55  127.10 -2.170006       -0.016885   \n",
       "1    2024-10-01 10:16:10-04:00    0.00    0.01  0.000000        0.000000   \n",
       "2    2024-09-26 12:50:53-04:00    0.00    0.06  0.000000        0.000000   \n",
       "3    2024-10-03 12:09:18-04:00  106.20  107.60  0.000000        0.000000   \n",
       "4    2024-09-11 14:27:04-04:00    0.00    0.06  0.000000        0.000000   \n",
       "...                        ...     ...     ...       ...             ...   \n",
       "1837 2024-09-27 09:58:18-04:00    1.66    4.55  0.000000        0.000000   \n",
       "1838 2024-10-02 11:12:58-04:00    1.33    4.10  0.000000        0.000000   \n",
       "1839 2024-09-30 11:05:44-04:00    0.93    2.96  0.000000        0.000000   \n",
       "1840 2024-09-30 13:20:06-04:00    1.90    2.85  0.000000        0.000000   \n",
       "1841 2024-10-04 15:56:56-04:00    1.69    1.85  0.140000        0.082840   \n",
       "\n",
       "      implied_volatility  in_the_money currency  \n",
       "0               2.046880          True      USD  \n",
       "1               1.812501         False      USD  \n",
       "2               1.859376         False      USD  \n",
       "3               1.875001          True      USD  \n",
       "4               1.453128         False      USD  \n",
       "...                  ...           ...      ...  \n",
       "1837            0.278328         False      USD  \n",
       "1838            0.279090         False      USD  \n",
       "1839            0.266548         False      USD  \n",
       "1840            0.271309         False      USD  \n",
       "1841            0.255501         False      USD  \n",
       "\n",
       "[1842 rows x 18 columns]"
      ]
     },
     "execution_count": 7,
     "metadata": {},
     "output_type": "execute_result"
    }
   ],
   "source": [
    "symbol=\"AAPL\"\n",
    "options = obb.derivatives.options.chains(symbol, provider=\"yfinance\")\n",
    "options"
   ]
  },
  {
   "cell_type": "code",
   "execution_count": 8,
   "metadata": {},
   "outputs": [
    {
     "data": {
      "text/html": [
       "<div>\n",
       "<style scoped>\n",
       "    .dataframe tbody tr th:only-of-type {\n",
       "        vertical-align: middle;\n",
       "    }\n",
       "\n",
       "    .dataframe tbody tr th {\n",
       "        vertical-align: top;\n",
       "    }\n",
       "\n",
       "    .dataframe thead th {\n",
       "        text-align: right;\n",
       "    }\n",
       "</style>\n",
       "<table border=\"1\" class=\"dataframe\">\n",
       "  <thead>\n",
       "    <tr style=\"text-align: right;\">\n",
       "      <th></th>\n",
       "      <th>Total Open Interest</th>\n",
       "      <th>Call Open Interest</th>\n",
       "      <th>Put Open Interest</th>\n",
       "      <th>Total Volume</th>\n",
       "      <th>Call Volume</th>\n",
       "      <th>Put Volume</th>\n",
       "    </tr>\n",
       "    <tr>\n",
       "      <th>strike</th>\n",
       "      <th></th>\n",
       "      <th></th>\n",
       "      <th></th>\n",
       "      <th></th>\n",
       "      <th></th>\n",
       "      <th></th>\n",
       "    </tr>\n",
       "  </thead>\n",
       "  <tbody>\n",
       "    <tr>\n",
       "      <th>5.0</th>\n",
       "      <td>11139</td>\n",
       "      <td>916</td>\n",
       "      <td>10223.0</td>\n",
       "      <td>1099</td>\n",
       "      <td>42</td>\n",
       "      <td>1057.0</td>\n",
       "    </tr>\n",
       "    <tr>\n",
       "      <th>10.0</th>\n",
       "      <td>354</td>\n",
       "      <td>2</td>\n",
       "      <td>352.0</td>\n",
       "      <td>69</td>\n",
       "      <td>1</td>\n",
       "      <td>68.0</td>\n",
       "    </tr>\n",
       "    <tr>\n",
       "      <th>15.0</th>\n",
       "      <td>1978</td>\n",
       "      <td>6</td>\n",
       "      <td>1972.0</td>\n",
       "      <td>13</td>\n",
       "      <td>4</td>\n",
       "      <td>9.0</td>\n",
       "    </tr>\n",
       "    <tr>\n",
       "      <th>20.0</th>\n",
       "      <td>3646</td>\n",
       "      <td>53</td>\n",
       "      <td>3593.0</td>\n",
       "      <td>261</td>\n",
       "      <td>4</td>\n",
       "      <td>257.0</td>\n",
       "    </tr>\n",
       "    <tr>\n",
       "      <th>25.0</th>\n",
       "      <td>5292</td>\n",
       "      <td>20</td>\n",
       "      <td>5272.0</td>\n",
       "      <td>23</td>\n",
       "      <td>1</td>\n",
       "      <td>22.0</td>\n",
       "    </tr>\n",
       "    <tr>\n",
       "      <th>...</th>\n",
       "      <td>...</td>\n",
       "      <td>...</td>\n",
       "      <td>...</td>\n",
       "      <td>...</td>\n",
       "      <td>...</td>\n",
       "      <td>...</td>\n",
       "    </tr>\n",
       "    <tr>\n",
       "      <th>410.0</th>\n",
       "      <td>1</td>\n",
       "      <td>1</td>\n",
       "      <td>NaN</td>\n",
       "      <td>1</td>\n",
       "      <td>1</td>\n",
       "      <td>NaN</td>\n",
       "    </tr>\n",
       "    <tr>\n",
       "      <th>420.0</th>\n",
       "      <td>1</td>\n",
       "      <td>1</td>\n",
       "      <td>NaN</td>\n",
       "      <td>1</td>\n",
       "      <td>1</td>\n",
       "      <td>NaN</td>\n",
       "    </tr>\n",
       "    <tr>\n",
       "      <th>430.0</th>\n",
       "      <td>3</td>\n",
       "      <td>3</td>\n",
       "      <td>NaN</td>\n",
       "      <td>1</td>\n",
       "      <td>1</td>\n",
       "      <td>NaN</td>\n",
       "    </tr>\n",
       "    <tr>\n",
       "      <th>440.0</th>\n",
       "      <td>4</td>\n",
       "      <td>4</td>\n",
       "      <td>NaN</td>\n",
       "      <td>1</td>\n",
       "      <td>1</td>\n",
       "      <td>NaN</td>\n",
       "    </tr>\n",
       "    <tr>\n",
       "      <th>450.0</th>\n",
       "      <td>453</td>\n",
       "      <td>453</td>\n",
       "      <td>NaN</td>\n",
       "      <td>51</td>\n",
       "      <td>51</td>\n",
       "      <td>NaN</td>\n",
       "    </tr>\n",
       "  </tbody>\n",
       "</table>\n",
       "<p>93 rows × 6 columns</p>\n",
       "</div>"
      ],
      "text/plain": [
       "        Total Open Interest  Call Open Interest  Put Open Interest  \\\n",
       "strike                                                               \n",
       "5.0                   11139                 916            10223.0   \n",
       "10.0                    354                   2              352.0   \n",
       "15.0                   1978                   6             1972.0   \n",
       "20.0                   3646                  53             3593.0   \n",
       "25.0                   5292                  20             5272.0   \n",
       "...                     ...                 ...                ...   \n",
       "410.0                     1                   1                NaN   \n",
       "420.0                     1                   1                NaN   \n",
       "430.0                     3                   3                NaN   \n",
       "440.0                     4                   4                NaN   \n",
       "450.0                   453                 453                NaN   \n",
       "\n",
       "        Total Volume  Call Volume  Put Volume  \n",
       "strike                                         \n",
       "5.0             1099           42      1057.0  \n",
       "10.0              69            1        68.0  \n",
       "15.0              13            4         9.0  \n",
       "20.0             261            4       257.0  \n",
       "25.0              23            1        22.0  \n",
       "...              ...          ...         ...  \n",
       "410.0              1            1         NaN  \n",
       "420.0              1            1         NaN  \n",
       "430.0              1            1         NaN  \n",
       "440.0              1            1         NaN  \n",
       "450.0             51           51         NaN  \n",
       "\n",
       "[93 rows x 6 columns]"
      ]
     },
     "execution_count": 8,
     "metadata": {},
     "output_type": "execute_result"
    }
   ],
   "source": [
    "# Prepare A View - Volume and Open Interest by Expiration or Strike\n",
    "\n",
    "def filter_options_data(options, by: Literal[\"expiration\", \"strike\"] = \"expiration\"):\n",
    "    data = pd.DataFrame()\n",
    "    data[\"Total Open Interest\"] = options.groupby(by)[\"open_interest\"].sum()\n",
    "    data[\"Call Open Interest\"] = options[options[\"option_type\"] == \"call\"].groupby(by)[\"open_interest\"].sum()\n",
    "    data[\"Put Open Interest\"] = options[options[\"option_type\"] == \"put\"].groupby(by)[\"open_interest\"].sum()\n",
    "    data[\"Total Volume\"] = options.groupby(by)[\"volume\"].sum()\n",
    "    data[\"Call Volume\"] = options[options[\"option_type\"] == \"call\"].groupby(by)[\"volume\"].sum()\n",
    "    data[\"Put Volume\"] = options[options[\"option_type\"] == \"put\"].groupby(by)[\"volume\"].sum()\n",
    "\n",
    "    return data\n",
    "\n",
    "data = filter_options_data(options, \"strike\")\n",
    "\n",
    "data"
   ]
  },
  {
   "cell_type": "code",
   "execution_count": 9,
   "metadata": {},
   "outputs": [
    {
     "data": {
      "application/vnd.jupyter.widget-view+json": {
       "model_id": "aa65e43583534e07925eec39f8876be9",
       "version_major": 2,
       "version_minor": 0
      },
      "text/plain": [
       "Dropdown(options=('Total Open Interest', 'Call Open Interest', 'Put Open Interest', 'Total Volume', 'Call Volu…"
      ]
     },
     "metadata": {},
     "output_type": "display_data"
    }
   ],
   "source": [
    "# Create a widget for selecting the data to display.\n",
    "\n",
    "clear_output(wait = False)\n",
    "\n",
    "data_choices = data.columns.tolist()\n",
    "data_selection = widgets.Dropdown(\n",
    "    options = data_choices,\n",
    "    value = None,\n",
    ")\n",
    "output = widgets.Output()\n",
    "\n",
    "\n",
    "def generate_figure(data, data_choice):\n",
    "    data = data[data[data_choice].notnull()]\n",
    "    fig = go.Figure()\n",
    "    fig.add_bar(\n",
    "        y = data[data_choice][data[data_choice] > 0].values,\n",
    "        x = data[data_choice][data[data_choice] > 0].index,\n",
    "        name = data_choice,\n",
    "        marker = dict(color = \"blue\"),\n",
    "    )\n",
    "    fig.add_bar(\n",
    "        y = data[data_choice][data[data_choice] < 0].values,\n",
    "        x = data[data_choice][data[data_choice] < 0].index,\n",
    "        name = data_choice,\n",
    "        marker = dict(color = \"red\")\n",
    "    )\n",
    "    fig.update_xaxes(type=\"category\")\n",
    "    fig.update_traces(width=0.98, selector=dict(type=\"bar\"))\n",
    "    fig.update_layout(\n",
    "        showlegend=False,\n",
    "        width=1400,\n",
    "        height=600,\n",
    "        title = dict(\n",
    "            text=f\"{symbol} {data_choice.replace('_', ' ').title()}\",\n",
    "            xanchor = \"center\",\n",
    "            x = 0.5,\n",
    "            font = dict(size = 20)\n",
    "        ),\n",
    "        barmode=\"overlay\",\n",
    "        bargap=0,\n",
    "        bargroupgap=0,\n",
    "        yaxis=dict(\n",
    "            ticklen=0,\n",
    "            showgrid=True,\n",
    "            tickfont=dict(size=14),\n",
    "        ),\n",
    "        xaxis=dict(\n",
    "            showgrid=False,\n",
    "            autorange=True,\n",
    "            tickangle=90,\n",
    "            tickfont=dict(size=11),\n",
    "        ),\n",
    "    )\n",
    "    return fig\n",
    "\n",
    "def on_value_change(change):\n",
    "    clear_output(wait = True)\n",
    "    display(data_selection)\n",
    "    with output:\n",
    "        data_selection.value\n",
    "\n",
    "data_selection.observe(on_value_change, names=\"value\")\n",
    "display(data_selection)\n",
    "\n",
    "# Select from the drop-down menu below."
   ]
  },
  {
   "cell_type": "code",
   "execution_count": 12,
   "metadata": {},
   "outputs": [
    {
     "data": {
      "application/vnd.plotly.v1+json": {
       "config": {
        "plotlyServerURL": "https://plot.ly"
       },
       "data": [
        {
         "marker": {
          "color": "blue"
         },
         "name": "Call Volume",
         "type": "bar",
         "width": 0.98,
         "x": [
          5,
          10,
          15,
          20,
          25,
          30,
          35,
          40,
          45,
          50,
          55,
          60,
          65,
          70,
          75,
          80,
          85,
          90,
          95,
          100,
          105,
          110,
          115,
          120,
          125,
          130,
          135,
          140,
          145,
          150,
          155,
          160,
          165,
          170,
          175,
          180,
          185,
          190,
          195,
          200,
          202.5,
          205,
          207.5,
          210,
          212.5,
          215,
          217.5,
          220,
          222.5,
          225,
          227.5,
          230,
          232.5,
          235,
          237.5,
          240,
          242.5,
          245,
          247.5,
          250,
          255,
          260,
          265,
          270,
          275,
          280,
          285,
          290,
          295,
          300,
          305,
          310,
          315,
          320,
          325,
          330,
          335,
          340,
          345,
          350,
          355,
          360,
          365,
          370,
          375,
          380,
          400,
          410,
          420,
          430,
          440,
          450
         ],
         "y": [
          42,
          1,
          4,
          4,
          1,
          23,
          7,
          54,
          20,
          52,
          49,
          165,
          78,
          34,
          58,
          433,
          41,
          39,
          39,
          86,
          35,
          191,
          95,
          148,
          121,
          165,
          28,
          131,
          338,
          564,
          122,
          1329,
          93,
          205,
          241,
          328,
          160,
          309,
          300,
          6197,
          37,
          348,
          141,
          2731,
          97,
          3138,
          826,
          6562,
          2370,
          34309,
          36277,
          67006,
          15300,
          25178,
          7038,
          17150,
          1706,
          12442,
          113,
          7191,
          2487,
          2964,
          2551,
          1245,
          421,
          969,
          191,
          385,
          1039,
          1211,
          13,
          657,
          39,
          178,
          4,
          469,
          17,
          220,
          53,
          328,
          103,
          146,
          1126,
          76,
          288,
          364,
          3,
          1,
          1,
          1,
          1,
          51
         ]
        },
        {
         "marker": {
          "color": "red"
         },
         "name": "Call Volume",
         "type": "bar",
         "width": 0.98,
         "x": [],
         "y": []
        }
       ],
       "layout": {
        "bargap": 0,
        "bargroupgap": 0,
        "barmode": "overlay",
        "height": 600,
        "showlegend": false,
        "template": {
         "data": {
          "bar": [
           {
            "error_x": {
             "color": "#2a3f5f"
            },
            "error_y": {
             "color": "#2a3f5f"
            },
            "marker": {
             "line": {
              "color": "#E5ECF6",
              "width": 0.5
             },
             "pattern": {
              "fillmode": "overlay",
              "size": 10,
              "solidity": 0.2
             }
            },
            "type": "bar"
           }
          ],
          "barpolar": [
           {
            "marker": {
             "line": {
              "color": "#E5ECF6",
              "width": 0.5
             },
             "pattern": {
              "fillmode": "overlay",
              "size": 10,
              "solidity": 0.2
             }
            },
            "type": "barpolar"
           }
          ],
          "carpet": [
           {
            "aaxis": {
             "endlinecolor": "#2a3f5f",
             "gridcolor": "white",
             "linecolor": "white",
             "minorgridcolor": "white",
             "startlinecolor": "#2a3f5f"
            },
            "baxis": {
             "endlinecolor": "#2a3f5f",
             "gridcolor": "white",
             "linecolor": "white",
             "minorgridcolor": "white",
             "startlinecolor": "#2a3f5f"
            },
            "type": "carpet"
           }
          ],
          "choropleth": [
           {
            "colorbar": {
             "outlinewidth": 0,
             "ticks": ""
            },
            "type": "choropleth"
           }
          ],
          "contour": [
           {
            "colorbar": {
             "outlinewidth": 0,
             "ticks": ""
            },
            "colorscale": [
             [
              0,
              "#0d0887"
             ],
             [
              0.1111111111111111,
              "#46039f"
             ],
             [
              0.2222222222222222,
              "#7201a8"
             ],
             [
              0.3333333333333333,
              "#9c179e"
             ],
             [
              0.4444444444444444,
              "#bd3786"
             ],
             [
              0.5555555555555556,
              "#d8576b"
             ],
             [
              0.6666666666666666,
              "#ed7953"
             ],
             [
              0.7777777777777778,
              "#fb9f3a"
             ],
             [
              0.8888888888888888,
              "#fdca26"
             ],
             [
              1,
              "#f0f921"
             ]
            ],
            "type": "contour"
           }
          ],
          "contourcarpet": [
           {
            "colorbar": {
             "outlinewidth": 0,
             "ticks": ""
            },
            "type": "contourcarpet"
           }
          ],
          "heatmap": [
           {
            "colorbar": {
             "outlinewidth": 0,
             "ticks": ""
            },
            "colorscale": [
             [
              0,
              "#0d0887"
             ],
             [
              0.1111111111111111,
              "#46039f"
             ],
             [
              0.2222222222222222,
              "#7201a8"
             ],
             [
              0.3333333333333333,
              "#9c179e"
             ],
             [
              0.4444444444444444,
              "#bd3786"
             ],
             [
              0.5555555555555556,
              "#d8576b"
             ],
             [
              0.6666666666666666,
              "#ed7953"
             ],
             [
              0.7777777777777778,
              "#fb9f3a"
             ],
             [
              0.8888888888888888,
              "#fdca26"
             ],
             [
              1,
              "#f0f921"
             ]
            ],
            "type": "heatmap"
           }
          ],
          "heatmapgl": [
           {
            "colorbar": {
             "outlinewidth": 0,
             "ticks": ""
            },
            "colorscale": [
             [
              0,
              "#0d0887"
             ],
             [
              0.1111111111111111,
              "#46039f"
             ],
             [
              0.2222222222222222,
              "#7201a8"
             ],
             [
              0.3333333333333333,
              "#9c179e"
             ],
             [
              0.4444444444444444,
              "#bd3786"
             ],
             [
              0.5555555555555556,
              "#d8576b"
             ],
             [
              0.6666666666666666,
              "#ed7953"
             ],
             [
              0.7777777777777778,
              "#fb9f3a"
             ],
             [
              0.8888888888888888,
              "#fdca26"
             ],
             [
              1,
              "#f0f921"
             ]
            ],
            "type": "heatmapgl"
           }
          ],
          "histogram": [
           {
            "marker": {
             "pattern": {
              "fillmode": "overlay",
              "size": 10,
              "solidity": 0.2
             }
            },
            "type": "histogram"
           }
          ],
          "histogram2d": [
           {
            "colorbar": {
             "outlinewidth": 0,
             "ticks": ""
            },
            "colorscale": [
             [
              0,
              "#0d0887"
             ],
             [
              0.1111111111111111,
              "#46039f"
             ],
             [
              0.2222222222222222,
              "#7201a8"
             ],
             [
              0.3333333333333333,
              "#9c179e"
             ],
             [
              0.4444444444444444,
              "#bd3786"
             ],
             [
              0.5555555555555556,
              "#d8576b"
             ],
             [
              0.6666666666666666,
              "#ed7953"
             ],
             [
              0.7777777777777778,
              "#fb9f3a"
             ],
             [
              0.8888888888888888,
              "#fdca26"
             ],
             [
              1,
              "#f0f921"
             ]
            ],
            "type": "histogram2d"
           }
          ],
          "histogram2dcontour": [
           {
            "colorbar": {
             "outlinewidth": 0,
             "ticks": ""
            },
            "colorscale": [
             [
              0,
              "#0d0887"
             ],
             [
              0.1111111111111111,
              "#46039f"
             ],
             [
              0.2222222222222222,
              "#7201a8"
             ],
             [
              0.3333333333333333,
              "#9c179e"
             ],
             [
              0.4444444444444444,
              "#bd3786"
             ],
             [
              0.5555555555555556,
              "#d8576b"
             ],
             [
              0.6666666666666666,
              "#ed7953"
             ],
             [
              0.7777777777777778,
              "#fb9f3a"
             ],
             [
              0.8888888888888888,
              "#fdca26"
             ],
             [
              1,
              "#f0f921"
             ]
            ],
            "type": "histogram2dcontour"
           }
          ],
          "mesh3d": [
           {
            "colorbar": {
             "outlinewidth": 0,
             "ticks": ""
            },
            "type": "mesh3d"
           }
          ],
          "parcoords": [
           {
            "line": {
             "colorbar": {
              "outlinewidth": 0,
              "ticks": ""
             }
            },
            "type": "parcoords"
           }
          ],
          "pie": [
           {
            "automargin": true,
            "type": "pie"
           }
          ],
          "scatter": [
           {
            "fillpattern": {
             "fillmode": "overlay",
             "size": 10,
             "solidity": 0.2
            },
            "type": "scatter"
           }
          ],
          "scatter3d": [
           {
            "line": {
             "colorbar": {
              "outlinewidth": 0,
              "ticks": ""
             }
            },
            "marker": {
             "colorbar": {
              "outlinewidth": 0,
              "ticks": ""
             }
            },
            "type": "scatter3d"
           }
          ],
          "scattercarpet": [
           {
            "marker": {
             "colorbar": {
              "outlinewidth": 0,
              "ticks": ""
             }
            },
            "type": "scattercarpet"
           }
          ],
          "scattergeo": [
           {
            "marker": {
             "colorbar": {
              "outlinewidth": 0,
              "ticks": ""
             }
            },
            "type": "scattergeo"
           }
          ],
          "scattergl": [
           {
            "marker": {
             "colorbar": {
              "outlinewidth": 0,
              "ticks": ""
             }
            },
            "type": "scattergl"
           }
          ],
          "scattermapbox": [
           {
            "marker": {
             "colorbar": {
              "outlinewidth": 0,
              "ticks": ""
             }
            },
            "type": "scattermapbox"
           }
          ],
          "scatterpolar": [
           {
            "marker": {
             "colorbar": {
              "outlinewidth": 0,
              "ticks": ""
             }
            },
            "type": "scatterpolar"
           }
          ],
          "scatterpolargl": [
           {
            "marker": {
             "colorbar": {
              "outlinewidth": 0,
              "ticks": ""
             }
            },
            "type": "scatterpolargl"
           }
          ],
          "scatterternary": [
           {
            "marker": {
             "colorbar": {
              "outlinewidth": 0,
              "ticks": ""
             }
            },
            "type": "scatterternary"
           }
          ],
          "surface": [
           {
            "colorbar": {
             "outlinewidth": 0,
             "ticks": ""
            },
            "colorscale": [
             [
              0,
              "#0d0887"
             ],
             [
              0.1111111111111111,
              "#46039f"
             ],
             [
              0.2222222222222222,
              "#7201a8"
             ],
             [
              0.3333333333333333,
              "#9c179e"
             ],
             [
              0.4444444444444444,
              "#bd3786"
             ],
             [
              0.5555555555555556,
              "#d8576b"
             ],
             [
              0.6666666666666666,
              "#ed7953"
             ],
             [
              0.7777777777777778,
              "#fb9f3a"
             ],
             [
              0.8888888888888888,
              "#fdca26"
             ],
             [
              1,
              "#f0f921"
             ]
            ],
            "type": "surface"
           }
          ],
          "table": [
           {
            "cells": {
             "fill": {
              "color": "#EBF0F8"
             },
             "line": {
              "color": "white"
             }
            },
            "header": {
             "fill": {
              "color": "#C8D4E3"
             },
             "line": {
              "color": "white"
             }
            },
            "type": "table"
           }
          ]
         },
         "layout": {
          "annotationdefaults": {
           "arrowcolor": "#2a3f5f",
           "arrowhead": 0,
           "arrowwidth": 1
          },
          "autotypenumbers": "strict",
          "coloraxis": {
           "colorbar": {
            "outlinewidth": 0,
            "ticks": ""
           }
          },
          "colorscale": {
           "diverging": [
            [
             0,
             "#8e0152"
            ],
            [
             0.1,
             "#c51b7d"
            ],
            [
             0.2,
             "#de77ae"
            ],
            [
             0.3,
             "#f1b6da"
            ],
            [
             0.4,
             "#fde0ef"
            ],
            [
             0.5,
             "#f7f7f7"
            ],
            [
             0.6,
             "#e6f5d0"
            ],
            [
             0.7,
             "#b8e186"
            ],
            [
             0.8,
             "#7fbc41"
            ],
            [
             0.9,
             "#4d9221"
            ],
            [
             1,
             "#276419"
            ]
           ],
           "sequential": [
            [
             0,
             "#0d0887"
            ],
            [
             0.1111111111111111,
             "#46039f"
            ],
            [
             0.2222222222222222,
             "#7201a8"
            ],
            [
             0.3333333333333333,
             "#9c179e"
            ],
            [
             0.4444444444444444,
             "#bd3786"
            ],
            [
             0.5555555555555556,
             "#d8576b"
            ],
            [
             0.6666666666666666,
             "#ed7953"
            ],
            [
             0.7777777777777778,
             "#fb9f3a"
            ],
            [
             0.8888888888888888,
             "#fdca26"
            ],
            [
             1,
             "#f0f921"
            ]
           ],
           "sequentialminus": [
            [
             0,
             "#0d0887"
            ],
            [
             0.1111111111111111,
             "#46039f"
            ],
            [
             0.2222222222222222,
             "#7201a8"
            ],
            [
             0.3333333333333333,
             "#9c179e"
            ],
            [
             0.4444444444444444,
             "#bd3786"
            ],
            [
             0.5555555555555556,
             "#d8576b"
            ],
            [
             0.6666666666666666,
             "#ed7953"
            ],
            [
             0.7777777777777778,
             "#fb9f3a"
            ],
            [
             0.8888888888888888,
             "#fdca26"
            ],
            [
             1,
             "#f0f921"
            ]
           ]
          },
          "colorway": [
           "#636efa",
           "#EF553B",
           "#00cc96",
           "#ab63fa",
           "#FFA15A",
           "#19d3f3",
           "#FF6692",
           "#B6E880",
           "#FF97FF",
           "#FECB52"
          ],
          "font": {
           "color": "#2a3f5f"
          },
          "geo": {
           "bgcolor": "white",
           "lakecolor": "white",
           "landcolor": "#E5ECF6",
           "showlakes": true,
           "showland": true,
           "subunitcolor": "white"
          },
          "hoverlabel": {
           "align": "left"
          },
          "hovermode": "closest",
          "mapbox": {
           "style": "light"
          },
          "paper_bgcolor": "white",
          "plot_bgcolor": "#E5ECF6",
          "polar": {
           "angularaxis": {
            "gridcolor": "white",
            "linecolor": "white",
            "ticks": ""
           },
           "bgcolor": "#E5ECF6",
           "radialaxis": {
            "gridcolor": "white",
            "linecolor": "white",
            "ticks": ""
           }
          },
          "scene": {
           "xaxis": {
            "backgroundcolor": "#E5ECF6",
            "gridcolor": "white",
            "gridwidth": 2,
            "linecolor": "white",
            "showbackground": true,
            "ticks": "",
            "zerolinecolor": "white"
           },
           "yaxis": {
            "backgroundcolor": "#E5ECF6",
            "gridcolor": "white",
            "gridwidth": 2,
            "linecolor": "white",
            "showbackground": true,
            "ticks": "",
            "zerolinecolor": "white"
           },
           "zaxis": {
            "backgroundcolor": "#E5ECF6",
            "gridcolor": "white",
            "gridwidth": 2,
            "linecolor": "white",
            "showbackground": true,
            "ticks": "",
            "zerolinecolor": "white"
           }
          },
          "shapedefaults": {
           "line": {
            "color": "#2a3f5f"
           }
          },
          "ternary": {
           "aaxis": {
            "gridcolor": "white",
            "linecolor": "white",
            "ticks": ""
           },
           "baxis": {
            "gridcolor": "white",
            "linecolor": "white",
            "ticks": ""
           },
           "bgcolor": "#E5ECF6",
           "caxis": {
            "gridcolor": "white",
            "linecolor": "white",
            "ticks": ""
           }
          },
          "title": {
           "x": 0.05
          },
          "xaxis": {
           "automargin": true,
           "gridcolor": "white",
           "linecolor": "white",
           "ticks": "",
           "title": {
            "standoff": 15
           },
           "zerolinecolor": "white",
           "zerolinewidth": 2
          },
          "yaxis": {
           "automargin": true,
           "gridcolor": "white",
           "linecolor": "white",
           "ticks": "",
           "title": {
            "standoff": 15
           },
           "zerolinecolor": "white",
           "zerolinewidth": 2
          }
         }
        },
        "title": {
         "font": {
          "size": 20
         },
         "text": "AAPL Call Volume",
         "x": 0.5,
         "xanchor": "center"
        },
        "width": 1400,
        "xaxis": {
         "autorange": true,
         "range": [
          -0.5,
          91.5
         ],
         "showgrid": false,
         "tickangle": 90,
         "tickfont": {
          "size": 11
         },
         "type": "category"
        },
        "yaxis": {
         "autorange": true,
         "range": [
          0,
          70532.63157894737
         ],
         "showgrid": true,
         "tickfont": {
          "size": 14
         },
         "ticklen": 0,
         "type": "linear"
        }
       }
      },
      "image/png": "[encoded data removed]",
      "text/html": [
       "<div>                            <div id=\"78331cdf-7fca-41c6-95c4-d694de0d9291\" class=\"plotly-graph-div\" style=\"height:600px; width:1400px;\"></div>            <script type=\"text/javascript\">                require([\"plotly\"], function(Plotly) {                    window.PLOTLYENV=window.PLOTLYENV || {};                                    if (document.getElementById(\"78331cdf-7fca-41c6-95c4-d694de0d9291\")) {                    Plotly.newPlot(                        \"78331cdf-7fca-41c6-95c4-d694de0d9291\",                        [{\"marker\":{\"color\":\"blue\"},\"name\":\"Call Volume\",\"x\":[5.0,10.0,15.0,20.0,25.0,30.0,35.0,40.0,45.0,50.0,55.0,60.0,65.0,70.0,75.0,80.0,85.0,90.0,95.0,100.0,105.0,110.0,115.0,120.0,125.0,130.0,135.0,140.0,145.0,150.0,155.0,160.0,165.0,170.0,175.0,180.0,185.0,190.0,195.0,200.0,202.5,205.0,207.5,210.0,212.5,215.0,217.5,220.0,222.5,225.0,227.5,230.0,232.5,235.0,237.5,240.0,242.5,245.0,247.5,250.0,255.0,260.0,265.0,270.0,275.0,280.0,285.0,290.0,295.0,300.0,305.0,310.0,315.0,320.0,325.0,330.0,335.0,340.0,345.0,350.0,355.0,360.0,365.0,370.0,375.0,380.0,400.0,410.0,420.0,430.0,440.0,450.0],\"y\":[42,1,4,4,1,23,7,54,20,52,49,165,78,34,58,433,41,39,39,86,35,191,95,148,121,165,28,131,338,564,122,1329,93,205,241,328,160,309,300,6197,37,348,141,2731,97,3138,826,6562,2370,34309,36277,67006,15300,25178,7038,17150,1706,12442,113,7191,2487,2964,2551,1245,421,969,191,385,1039,1211,13,657,39,178,4,469,17,220,53,328,103,146,1126,76,288,364,3,1,1,1,1,51],\"type\":\"bar\",\"width\":0.98},{\"marker\":{\"color\":\"red\"},\"name\":\"Call Volume\",\"x\":[],\"y\":[],\"type\":\"bar\",\"width\":0.98}],                        {\"template\":{\"data\":{\"histogram2dcontour\":[{\"type\":\"histogram2dcontour\",\"colorbar\":{\"outlinewidth\":0,\"ticks\":\"\"},\"colorscale\":[[0.0,\"#0d0887\"],[0.1111111111111111,\"#46039f\"],[0.2222222222222222,\"#7201a8\"],[0.3333333333333333,\"#9c179e\"],[0.4444444444444444,\"#bd3786\"],[0.5555555555555556,\"#d8576b\"],[0.6666666666666666,\"#ed7953\"],[0.7777777777777778,\"#fb9f3a\"],[0.8888888888888888,\"#fdca26\"],[1.0,\"#f0f921\"]]}],\"choropleth\":[{\"type\":\"choropleth\",\"colorbar\":{\"outlinewidth\":0,\"ticks\":\"\"}}],\"histogram2d\":[{\"type\":\"histogram2d\",\"colorbar\":{\"outlinewidth\":0,\"ticks\":\"\"},\"colorscale\":[[0.0,\"#0d0887\"],[0.1111111111111111,\"#46039f\"],[0.2222222222222222,\"#7201a8\"],[0.3333333333333333,\"#9c179e\"],[0.4444444444444444,\"#bd3786\"],[0.5555555555555556,\"#d8576b\"],[0.6666666666666666,\"#ed7953\"],[0.7777777777777778,\"#fb9f3a\"],[0.8888888888888888,\"#fdca26\"],[1.0,\"#f0f921\"]]}],\"heatmap\":[{\"type\":\"heatmap\",\"colorbar\":{\"outlinewidth\":0,\"ticks\":\"\"},\"colorscale\":[[0.0,\"#0d0887\"],[0.1111111111111111,\"#46039f\"],[0.2222222222222222,\"#7201a8\"],[0.3333333333333333,\"#9c179e\"],[0.4444444444444444,\"#bd3786\"],[0.5555555555555556,\"#d8576b\"],[0.6666666666666666,\"#ed7953\"],[0.7777777777777778,\"#fb9f3a\"],[0.8888888888888888,\"#fdca26\"],[1.0,\"#f0f921\"]]}],\"heatmapgl\":[{\"type\":\"heatmapgl\",\"colorbar\":{\"outlinewidth\":0,\"ticks\":\"\"},\"colorscale\":[[0.0,\"#0d0887\"],[0.1111111111111111,\"#46039f\"],[0.2222222222222222,\"#7201a8\"],[0.3333333333333333,\"#9c179e\"],[0.4444444444444444,\"#bd3786\"],[0.5555555555555556,\"#d8576b\"],[0.6666666666666666,\"#ed7953\"],[0.7777777777777778,\"#fb9f3a\"],[0.8888888888888888,\"#fdca26\"],[1.0,\"#f0f921\"]]}],\"contourcarpet\":[{\"type\":\"contourcarpet\",\"colorbar\":{\"outlinewidth\":0,\"ticks\":\"\"}}],\"contour\":[{\"type\":\"contour\",\"colorbar\":{\"outlinewidth\":0,\"ticks\":\"\"},\"colorscale\":[[0.0,\"#0d0887\"],[0.1111111111111111,\"#46039f\"],[0.2222222222222222,\"#7201a8\"],[0.3333333333333333,\"#9c179e\"],[0.4444444444444444,\"#bd3786\"],[0.5555555555555556,\"#d8576b\"],[0.6666666666666666,\"#ed7953\"],[0.7777777777777778,\"#fb9f3a\"],[0.8888888888888888,\"#fdca26\"],[1.0,\"#f0f921\"]]}],\"surface\":[{\"type\":\"surface\",\"colorbar\":{\"outlinewidth\":0,\"ticks\":\"\"},\"colorscale\":[[0.0,\"#0d0887\"],[0.1111111111111111,\"#46039f\"],[0.2222222222222222,\"#7201a8\"],[0.3333333333333333,\"#9c179e\"],[0.4444444444444444,\"#bd3786\"],[0.5555555555555556,\"#d8576b\"],[0.6666666666666666,\"#ed7953\"],[0.7777777777777778,\"#fb9f3a\"],[0.8888888888888888,\"#fdca26\"],[1.0,\"#f0f921\"]]}],\"mesh3d\":[{\"type\":\"mesh3d\",\"colorbar\":{\"outlinewidth\":0,\"ticks\":\"\"}}],\"scatter\":[{\"fillpattern\":{\"fillmode\":\"overlay\",\"size\":10,\"solidity\":0.2},\"type\":\"scatter\"}],\"parcoords\":[{\"type\":\"parcoords\",\"line\":{\"colorbar\":{\"outlinewidth\":0,\"ticks\":\"\"}}}],\"scatterpolargl\":[{\"type\":\"scatterpolargl\",\"marker\":{\"colorbar\":{\"outlinewidth\":0,\"ticks\":\"\"}}}],\"bar\":[{\"error_x\":{\"color\":\"#2a3f5f\"},\"error_y\":{\"color\":\"#2a3f5f\"},\"marker\":{\"line\":{\"color\":\"#E5ECF6\",\"width\":0.5},\"pattern\":{\"fillmode\":\"overlay\",\"size\":10,\"solidity\":0.2}},\"type\":\"bar\"}],\"scattergeo\":[{\"type\":\"scattergeo\",\"marker\":{\"colorbar\":{\"outlinewidth\":0,\"ticks\":\"\"}}}],\"scatterpolar\":[{\"type\":\"scatterpolar\",\"marker\":{\"colorbar\":{\"outlinewidth\":0,\"ticks\":\"\"}}}],\"histogram\":[{\"marker\":{\"pattern\":{\"fillmode\":\"overlay\",\"size\":10,\"solidity\":0.2}},\"type\":\"histogram\"}],\"scattergl\":[{\"type\":\"scattergl\",\"marker\":{\"colorbar\":{\"outlinewidth\":0,\"ticks\":\"\"}}}],\"scatter3d\":[{\"type\":\"scatter3d\",\"line\":{\"colorbar\":{\"outlinewidth\":0,\"ticks\":\"\"}},\"marker\":{\"colorbar\":{\"outlinewidth\":0,\"ticks\":\"\"}}}],\"scattermapbox\":[{\"type\":\"scattermapbox\",\"marker\":{\"colorbar\":{\"outlinewidth\":0,\"ticks\":\"\"}}}],\"scatterternary\":[{\"type\":\"scatterternary\",\"marker\":{\"colorbar\":{\"outlinewidth\":0,\"ticks\":\"\"}}}],\"scattercarpet\":[{\"type\":\"scattercarpet\",\"marker\":{\"colorbar\":{\"outlinewidth\":0,\"ticks\":\"\"}}}],\"carpet\":[{\"aaxis\":{\"endlinecolor\":\"#2a3f5f\",\"gridcolor\":\"white\",\"linecolor\":\"white\",\"minorgridcolor\":\"white\",\"startlinecolor\":\"#2a3f5f\"},\"baxis\":{\"endlinecolor\":\"#2a3f5f\",\"gridcolor\":\"white\",\"linecolor\":\"white\",\"minorgridcolor\":\"white\",\"startlinecolor\":\"#2a3f5f\"},\"type\":\"carpet\"}],\"table\":[{\"cells\":{\"fill\":{\"color\":\"#EBF0F8\"},\"line\":{\"color\":\"white\"}},\"header\":{\"fill\":{\"color\":\"#C8D4E3\"},\"line\":{\"color\":\"white\"}},\"type\":\"table\"}],\"barpolar\":[{\"marker\":{\"line\":{\"color\":\"#E5ECF6\",\"width\":0.5},\"pattern\":{\"fillmode\":\"overlay\",\"size\":10,\"solidity\":0.2}},\"type\":\"barpolar\"}],\"pie\":[{\"automargin\":true,\"type\":\"pie\"}]},\"layout\":{\"autotypenumbers\":\"strict\",\"colorway\":[\"#636efa\",\"#EF553B\",\"#00cc96\",\"#ab63fa\",\"#FFA15A\",\"#19d3f3\",\"#FF6692\",\"#B6E880\",\"#FF97FF\",\"#FECB52\"],\"font\":{\"color\":\"#2a3f5f\"},\"hovermode\":\"closest\",\"hoverlabel\":{\"align\":\"left\"},\"paper_bgcolor\":\"white\",\"plot_bgcolor\":\"#E5ECF6\",\"polar\":{\"bgcolor\":\"#E5ECF6\",\"angularaxis\":{\"gridcolor\":\"white\",\"linecolor\":\"white\",\"ticks\":\"\"},\"radialaxis\":{\"gridcolor\":\"white\",\"linecolor\":\"white\",\"ticks\":\"\"}},\"ternary\":{\"bgcolor\":\"#E5ECF6\",\"aaxis\":{\"gridcolor\":\"white\",\"linecolor\":\"white\",\"ticks\":\"\"},\"baxis\":{\"gridcolor\":\"white\",\"linecolor\":\"white\",\"ticks\":\"\"},\"caxis\":{\"gridcolor\":\"white\",\"linecolor\":\"white\",\"ticks\":\"\"}},\"coloraxis\":{\"colorbar\":{\"outlinewidth\":0,\"ticks\":\"\"}},\"colorscale\":{\"sequential\":[[0.0,\"#0d0887\"],[0.1111111111111111,\"#46039f\"],[0.2222222222222222,\"#7201a8\"],[0.3333333333333333,\"#9c179e\"],[0.4444444444444444,\"#bd3786\"],[0.5555555555555556,\"#d8576b\"],[0.6666666666666666,\"#ed7953\"],[0.7777777777777778,\"#fb9f3a\"],[0.8888888888888888,\"#fdca26\"],[1.0,\"#f0f921\"]],\"sequentialminus\":[[0.0,\"#0d0887\"],[0.1111111111111111,\"#46039f\"],[0.2222222222222222,\"#7201a8\"],[0.3333333333333333,\"#9c179e\"],[0.4444444444444444,\"#bd3786\"],[0.5555555555555556,\"#d8576b\"],[0.6666666666666666,\"#ed7953\"],[0.7777777777777778,\"#fb9f3a\"],[0.8888888888888888,\"#fdca26\"],[1.0,\"#f0f921\"]],\"diverging\":[[0,\"#8e0152\"],[0.1,\"#c51b7d\"],[0.2,\"#de77ae\"],[0.3,\"#f1b6da\"],[0.4,\"#fde0ef\"],[0.5,\"#f7f7f7\"],[0.6,\"#e6f5d0\"],[0.7,\"#b8e186\"],[0.8,\"#7fbc41\"],[0.9,\"#4d9221\"],[1,\"#276419\"]]},\"xaxis\":{\"gridcolor\":\"white\",\"linecolor\":\"white\",\"ticks\":\"\",\"title\":{\"standoff\":15},\"zerolinecolor\":\"white\",\"automargin\":true,\"zerolinewidth\":2},\"yaxis\":{\"gridcolor\":\"white\",\"linecolor\":\"white\",\"ticks\":\"\",\"title\":{\"standoff\":15},\"zerolinecolor\":\"white\",\"automargin\":true,\"zerolinewidth\":2},\"scene\":{\"xaxis\":{\"backgroundcolor\":\"#E5ECF6\",\"gridcolor\":\"white\",\"linecolor\":\"white\",\"showbackground\":true,\"ticks\":\"\",\"zerolinecolor\":\"white\",\"gridwidth\":2},\"yaxis\":{\"backgroundcolor\":\"#E5ECF6\",\"gridcolor\":\"white\",\"linecolor\":\"white\",\"showbackground\":true,\"ticks\":\"\",\"zerolinecolor\":\"white\",\"gridwidth\":2},\"zaxis\":{\"backgroundcolor\":\"#E5ECF6\",\"gridcolor\":\"white\",\"linecolor\":\"white\",\"showbackground\":true,\"ticks\":\"\",\"zerolinecolor\":\"white\",\"gridwidth\":2}},\"shapedefaults\":{\"line\":{\"color\":\"#2a3f5f\"}},\"annotationdefaults\":{\"arrowcolor\":\"#2a3f5f\",\"arrowhead\":0,\"arrowwidth\":1},\"geo\":{\"bgcolor\":\"white\",\"landcolor\":\"#E5ECF6\",\"subunitcolor\":\"white\",\"showland\":true,\"showlakes\":true,\"lakecolor\":\"white\"},\"title\":{\"x\":0.05},\"mapbox\":{\"style\":\"light\"}}},\"xaxis\":{\"type\":\"category\",\"tickfont\":{\"size\":11},\"showgrid\":false,\"autorange\":true,\"tickangle\":90},\"title\":{\"font\":{\"size\":20},\"text\":\"AAPL Call Volume\",\"xanchor\":\"center\",\"x\":0.5},\"yaxis\":{\"tickfont\":{\"size\":14},\"ticklen\":0,\"showgrid\":true},\"showlegend\":false,\"width\":1400,\"height\":600,\"barmode\":\"overlay\",\"bargap\":0,\"bargroupgap\":0},                        {\"responsive\": true}                    ).then(function(){\n",
       "                            \n",
       "var gd = document.getElementById('78331cdf-7fca-41c6-95c4-d694de0d9291');\n",
       "var x = new MutationObserver(function (mutations, observer) {{\n",
       "        var display = window.getComputedStyle(gd).display;\n",
       "        if (!display || display === 'none') {{\n",
       "            console.log([gd, 'removed!']);\n",
       "            Plotly.purge(gd);\n",
       "            observer.disconnect();\n",
       "        }}\n",
       "}});\n",
       "\n",
       "// Listen for the removal of the full notebook cells\n",
       "var notebookContainer = gd.closest('#notebook-container');\n",
       "if (notebookContainer) {{\n",
       "    x.observe(notebookContainer, {childList: true});\n",
       "}}\n",
       "\n",
       "// Listen for the clearing of the current output cell\n",
       "var outputEl = gd.closest('.output');\n",
       "if (outputEl) {{\n",
       "    x.observe(outputEl, {childList: true});\n",
       "}}\n",
       "\n",
       "                        })                };                });            </script>        </div>"
      ]
     },
     "metadata": {},
     "output_type": "display_data"
    }
   ],
   "source": [
    "# Play this cell to display the choice\n",
    "if data_selection.value is not None:\n",
    "    generate_figure(data, data_selection.value).show()"
   ]
  }
 ],
 "metadata": {
  "kernelspec": {
   "display_name": "OpenBB Environment",
   "language": "python",
   "name": "openbb"
  },
  "language_info": {
   "codemirror_mode": {
    "name": "ipython",
    "version": 3
   },
   "file_extension": ".py",
   "mimetype": "text/x-python",
   "name": "python",
   "nbconvert_exporter": "python",
   "pygments_lexer": "ipython3",
   "version": "3.11.10"
  }
 },
 "nbformat": 4,
 "nbformat_minor": 4
}
